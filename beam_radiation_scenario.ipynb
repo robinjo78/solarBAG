{
 "cells": [
  {
   "cell_type": "markdown",
   "metadata": {},
   "source": [
    "This notebook computes the beam solar radiation for a day for three locations in The Netherlands by using the solarpy library. These three locations are weather stations. The goal is to compare the computed values with ground truth global solar radiation values measured by the weather stations."
   ]
  },
  {
   "cell_type": "code",
   "execution_count": 1,
   "metadata": {},
   "outputs": [],
   "source": [
    "import datetime as dt\n",
    "import matplotlib.pyplot as plt\n",
    "import matplotlib.dates as mdates\n",
    "import numpy as np\n",
    "import solarpy as sp\n",
    "from datetime import datetime, timedelta, time"
   ]
  },
  {
   "cell_type": "code",
   "execution_count": 2,
   "metadata": {},
   "outputs": [],
   "source": [
    "# Setting the parameters\n",
    "date = dt.datetime(2022, 7, 1)\n",
    "\n",
    "# List the parameters of the weather stations:\n",
    "# (height (in m), latitude (in degrees))\n",
    "ws1 = (0, 52.139722)        # Voorschoten\n",
    "ws2 = (14, 51.530278)       # Wilhelminadorp\n",
    "ws3 = (0.9, 53.194444)      # Nieuw Beerta"
   ]
  },
  {
   "cell_type": "code",
   "execution_count": 11,
   "metadata": {},
   "outputs": [],
   "source": [
    "# Compute the beam solar radiation for the weather stations per 10 minutes\n",
    "t = [date + dt.timedelta(minutes=i) for i in range(0, 60 * 24, 10)]\n",
    "\n",
    "G_ws1 = [(sp.beam_irradiance(ws1[0], i, ws1[1])) for i in t]    # Voorschoten\n",
    "G_ws2 = [(sp.beam_irradiance(ws2[0], i, ws2[1])) for i in t]    # Wilhelminadorp\n",
    "G_ws3 = [(sp.beam_irradiance(ws3[0], i, ws3[1])) for i in t]    # Nieuw Beerta"
   ]
  },
  {
   "cell_type": "code",
   "execution_count": 4,
   "metadata": {},
   "outputs": [],
   "source": [
    "# Adjust the timestamps to make them plottable.\n",
    "t_ = [datetime.combine(datetime(2022, 7, 1), i) for i in [i.time() for i in t]] "
   ]
  },
  {
   "cell_type": "code",
   "execution_count": 13,
   "metadata": {},
   "outputs": [
    {
     "data": {
      "image/png": "[encoded data removed]",
      "text/plain": [
       "<Figure size 432x288 with 1 Axes>"
      ]
     },
     "metadata": {
      "needs_background": "light"
     },
     "output_type": "display_data"
    }
   ],
   "source": [
    "# Plot the computed values of the three weather stations in one graph\n",
    "fig, ax = plt.subplots()\n",
    "ax.plot(t_, G_ws1, label='Voorschoten')\n",
    "ax.plot(t_, G_ws2, label='Wilhelminadorp')\n",
    "ax.plot(t_, G_ws3, label='Nieuw Beerta')\n",
    "\n",
    "fig.autofmt_xdate()\n",
    "myFmt = mdates.DateFormatter('%H:%M')\n",
    "ax.xaxis.set_major_formatter(myFmt)\n",
    "plt.autoscale(enable=True, axis='x', tight=True)\n",
    "\n",
    "plt.xlabel('hour', fontsize=9)\n",
    "plt.ylabel('W/m2', fontsize=9)\n",
    "plt.title('Beam irradiance computed by Solarpy', fontsize=12)\n",
    "plt.grid(True)\n",
    "plt.legend()\n",
    "plt.show()"
   ]
  },
  {
   "cell_type": "code",
   "execution_count": 20,
   "metadata": {},
   "outputs": [
    {
     "name": "stdout",
     "output_type": "stream",
     "text": [
      "[1.0, 1.0, 1.0, 1.0, 1.0, 1.0, 0.0, 0.0, 0.0, 0.0, 0.0, 0.0, 1.0, 1.0, 1.0, 1.0, 1.0, 1.0, 1.0, 2.0, 3.0, 6.0, 11.0, 19.0, 30.0, 45.0, 103.0, 40.0, 49.0, 103.0, 90.0, 188.0, 212.0, 242.0, 291.0, 248.0, 164.0, 198.0, 302.0, 381.0, 417.0, 471.0, 515.0, 526.0, 434.0, 623.0, 708.0, 121.0, 140.0, 359.0, 623.0, 755.0, 806.0, 718.0, 768.0, 466.0, 444.0, 573.0, 396.0, 208.0, 683.0, 882.0, 881.0, 595.0, 237.0, 213.0, 103.0, 167.0, 273.0, 402.0, 387.0, 258.0, 216.0, 484.0, 248.0, 191.0, 483.0, 293.0, 279.0, 342.0, 340.0, 379.0, 482.0, 497.0, 442.0, 750.0, 764.0, 761.0, 728.0, 717.0, 542.0, 358.0, 689.0, 575.0, 487.0, 310.0, 438.0, 465.0, 437.0, 328.0, 425.0, 407.0, 374.0, 349.0, 320.0, 294.0, 266.0, 241.0, 217.0, 192.0, 169.0, 145.0, 122.0, 101.0, 79.0, 60.0, 43.0, 28.0, 17.0, 7.0, 3.0, 1.0, 0.0, 0.0, 0.0, 0.0, 0.0, 0.0, 0.0, 0.0, 0.0, 0.0, 0.0, 0.0, 0.0, 0.0, 0.0, 0.0, 0.0, 0.0, 0.0, 0.0, 0.0, 0.0]\n",
      "[1.0, 1.0, 1.0, 0.0, 1.0, 1.0, 0.0, 0.0, 0.0, 0.0, 0.0, 0.0, 1.0, 0.0, 0.0, 0.0, 0.0, 0.0, 0.0, 1.0, 2.0, 4.0, 7.0, 12.0, 18.0, 21.0, 49.0, 100.0, 112.0, 109.0, 154.0, 174.0, 186.0, 178.0, 114.0, 271.0, 309.0, 338.0, 369.0, 399.0, 425.0, 451.0, 480.0, 507.0, 497.0, 564.0, 590.0, 615.0, 632.0, 558.0, 461.0, 527.0, 443.0, 299.0, 449.0, 680.0, 730.0, 198.0, 424.0, 529.0, 280.0, 120.0, 122.0, 155.0, 485.0, 195.0, 57.0, 50.0, 30.0, 87.0, 164.0, 259.0, 383.0, 135.0, 160.0, 420.0, 654.0, 711.0, 464.0, 551.0, 163.0, 70.0, 202.0, 263.0, 236.0, 230.0, 151.0, 182.0, 100.0, 108.0, 148.0, 109.0, 187.0, 498.0, 585.0, 556.0, 530.0, 517.0, 472.0, 417.0, 387.0, 399.0, 366.0, 341.0, 311.0, 285.0, 262.0, 236.0, 212.0, 186.0, 156.0, 126.0, 112.0, 96.0, 78.0, 61.0, 43.0, 28.0, 16.0, 8.0, 2.0, 0.0, 0.0, 0.0, 0.0, 0.0, 0.0, 0.0, 0.0, 0.0, 0.0, 0.0, 0.0, 0.0, 0.0, 0.0, 0.0, 0.0, 0.0, 0.0, 0.0, 0.0, 0.0, 0.0]\n",
      "[0.0, 0.0, 0.0, 0.0, 0.0, 0.0, 0.0, 0.0, 0.0, 0.0, 0.0, 0.0, 0.0, 0.0, 0.0, 0.0, 0.0, 0.0, 0.0, 2.0, 4.0, 7.0, 6.0, 7.0, 14.0, 18.0, 18.0, 26.0, 28.0, 31.0, 46.0, 52.0, 48.0, 50.0, 63.0, 69.0, 84.0, 115.0, 133.0, 99.0, 126.0, 136.0, 175.0, 233.0, 258.0, 282.0, 264.0, 278.0, 317.0, 410.0, 375.0, 455.0, 461.0, 444.0, 303.0, 277.0, 383.0, 492.0, 539.0, 449.0, 447.0, 501.0, 497.0, 482.0, 593.0, 468.0, 556.0, 422.0, 678.0, 556.0, 705.0, 649.0, 846.0, 869.0, 634.0, 338.0, 304.0, 533.0, 184.0, 329.0, 674.0, 694.0, 416.0, 443.0, 492.0, 581.0, 694.0, 707.0, 450.0, 635.0, 568.0, 213.0, 129.0, 197.0, 322.0, 395.0, 503.0, 487.0, 232.0, 366.0, 430.0, 378.0, 348.0, 327.0, 323.0, 284.0, 243.0, 217.0, 195.0, 201.0, 169.0, 122.0, 64.0, 91.0, 69.0, 51.0, 32.0, 18.0, 8.0, 1.0, 0.0, 0.0, 0.0, 0.0, 0.0, 0.0, 0.0, 0.0, 0.0, 0.0, 0.0, 0.0, 0.0, 0.0, 0.0, 0.0, 0.0, 0.0, 0.0, 0.0, 0.0, 0.0, 0.0, 0.0]\n"
     ]
    }
   ],
   "source": [
    "# Read the weather file and save data per weather station for one day (01-07-2022).\n",
    "with open('data/weather_data/kis_tos_20220731.txt') as file:\n",
    "    lines = file.readlines()\n",
    "\n",
    "    Q_Glob_Vs = []\n",
    "    Q_Glob_Wd = []\n",
    "    Q_Glob_Nb = []\n",
    "\n",
    "    # Extract the global radiation for Voorschoten\n",
    "    i = 0\n",
    "    for line in lines:\n",
    "        if line[0] == '#':\n",
    "            continue\n",
    "        \n",
    "        line_spl = line.split()\n",
    "\n",
    "        if line_spl[3] == 'Voorschoten':\n",
    "            date = line_spl[0]\n",
    "            time = line_spl[1]\n",
    "            location_id = line_spl[2]\n",
    "            location_name = line_spl[3] + \" \" + line_spl[4]\n",
    "            lat = line_spl[5]\n",
    "            lon = line_spl[6]\n",
    "            altitude = line_spl[7]\n",
    "            Q_Glob_10 = line_spl[8]\n",
    "            QN_Glob_10 = line_spl[9]\n",
    "            QX_Glob_10 = line_spl[10]\n",
    "            S_dur = line_spl[11]\n",
    "        \n",
    "            Q_Glob_Vs.append(float(Q_Glob_10))\n",
    "\n",
    "            i += 1\n",
    "            if i > 143: # take a whole day with time intervals of 10 min\n",
    "                break\n",
    "\n",
    "    # Extract the global radiation for Wilhelminadorp    \n",
    "    i = 0\n",
    "    for line in lines:\n",
    "        if line[0] == '#':\n",
    "            continue\n",
    "        \n",
    "        line_spl = line.split()\n",
    "\n",
    "        if line_spl[3] == 'Wilhelminadorp':\n",
    "            date = line_spl[0]\n",
    "            time = line_spl[1]\n",
    "            location_id = line_spl[2]\n",
    "            location_name = line_spl[3]\n",
    "            lat = line_spl[4]\n",
    "            lon = line_spl[5]\n",
    "            altitude = line_spl[6]\n",
    "            Q_Glob_10 = line_spl[7]\n",
    "            QN_Glob_10 = line_spl[8]\n",
    "            QX_Glob_10 = line_spl[9]\n",
    "            S_dur = line_spl[10]\n",
    "        \n",
    "            # print(\"Split:\", date, time, location_id, location_name, lat, lon, altitude, Q_Glob_10, QN_Glob_10, QX_Glob_10, S_dur)\n",
    "\n",
    "            Q_Glob_Wd.append(float(Q_Glob_10))\n",
    "\n",
    "            i += 1\n",
    "            if i > 143: # take a whole day with time intervals of 10 min\n",
    "                break\n",
    "    \n",
    "    # Extract the global radiation for Nieuw Beerta\n",
    "    i = 0\n",
    "    for line in lines:\n",
    "        if line[0] == '#':\n",
    "            continue\n",
    "        \n",
    "        line_spl = line.split()\n",
    "\n",
    "        if line_spl[3] == 'Nieuw':\n",
    "            date = line_spl[0]\n",
    "            time = line_spl[1]\n",
    "            location_id = line_spl[2]\n",
    "            location_name = line_spl[3] + \" \" + line_spl[4]\n",
    "            lat = line_spl[5]\n",
    "            lon = line_spl[6]\n",
    "            altitude = line_spl[7]\n",
    "            Q_Glob_10 = line_spl[8]\n",
    "            QN_Glob_10 = line_spl[9]\n",
    "            QX_Glob_10 = line_spl[10]\n",
    "            S_dur = line_spl[11]\n",
    "        \n",
    "            # print(\"Split:\", date, time, location_id, location_name, lat, lon, altitude, Q_Glob_10, QN_Glob_10, QX_Glob_10, S_dur)\n",
    "\n",
    "            Q_Glob_Nb.append(float(Q_Glob_10))\n",
    "\n",
    "            i += 1\n",
    "            if i > 143: # take a whole day with time intervals of 10 min\n",
    "                break\n",
    "    \n",
    "    # print(Q_Glob_Vs)\n",
    "    # print(Q_Glob_Wd)\n",
    "    # print(Q_Glob_Nb)"
   ]
  },
  {
   "cell_type": "code",
   "execution_count": null,
   "metadata": {},
   "outputs": [],
   "source": []
  }
 ],
 "metadata": {
  "kernelspec": {
   "display_name": "Python 3.9.2 64-bit",
   "language": "python",
   "name": "python3"
  },
  "language_info": {
   "codemirror_mode": {
    "name": "ipython",
    "version": 3
   },
   "file_extension": ".py",
   "mimetype": "text/x-python",
   "name": "python",
   "nbconvert_exporter": "python",
   "pygments_lexer": "ipython3",
   "version": "3.9.2"
  },
  "orig_nbformat": 4,
  "vscode": {
   "interpreter": {
    "hash": "ff11b7c5c7012bc8eefbb0456374d5123895989f81f9782369febed389505350"
   }
  }
 },
 "nbformat": 4,
 "nbformat_minor": 2
}
